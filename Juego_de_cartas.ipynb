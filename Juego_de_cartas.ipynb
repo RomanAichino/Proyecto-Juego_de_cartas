{
 "cells": [
  {
   "cell_type": "code",
   "execution_count": 33,
   "metadata": {},
   "outputs": [],
   "source": [
    "import random"
   ]
  },
  {
   "cell_type": "code",
   "execution_count": 34,
   "metadata": {},
   "outputs": [],
   "source": [
    "def Juego (num_ele):\n",
    "    num_ele=int(num_ele)\n",
    "    lista=list(range(1,21)) #Cree la lista de cartas.\n",
    "    all_num=[]\n",
    "    res_num=[]\n",
    "    sum_total = 0\n",
    "    cant_num = 0\n",
    "    \n",
    "    for x in range(1, num_ele+1): \n",
    "        num_ram = random.choice(lista)\n",
    "        lista.remove(num_ram)\n",
    "        all_num.append(num_ram)\n",
    "        sum_total += num_ram\n",
    "        \n",
    "        #Aquí usamos la cantidad de cartas dada por el usuario.\n",
    "\n",
    "    if (sum_total > 50): #Primer resultado posible (pasarse de 50).\n",
    "        print('Lo siento, te has pasado. </3')\n",
    "        print('La suma de: ',all_num,' es = ')\n",
    "        return (sum_total)\n",
    "    else:\n",
    "        num_ram = random.choice(lista)\n",
    "        lista.remove(num_ram)\n",
    "        res_num.append(num_ram)\n",
    "        sum_total += num_ram\n",
    "\n",
    "        while (sum_total <= 50):\n",
    "            num_ram = random.choice(lista)\n",
    "            lista.remove(num_ram)\n",
    "            res_num.append(num_ram)\n",
    "            sum_total += num_ram\n",
    "            cant_num += 1\n",
    "        nota = 10-cant_num\n",
    "        #Aquí sacamos la puntuación final.\n",
    "\n",
    "        if (nota >= 6): #Segundo resultado posible (ganar).\n",
    "            print('Cartas sacadas: ',all_num)\n",
    "            print('Cartas restantes hasta pasar los 50: ',res_num)\n",
    "            return('Felicidades!! su nota es: ', nota)\n",
    "\n",
    "        else: #Tercer resultado posible (hacer menos de 6 puntos).\n",
    "            print('Cartas sacadas: ',all_num) \n",
    "            print('Cartas restantes hasta pasar los 50: ',res_num)\n",
    "            return('Lo sentimos, su nota es: ', nota, ' y ha fallado.')"
   ]
  },
  {
   "cell_type": "code",
   "execution_count": 35,
   "metadata": {},
   "outputs": [
    {
     "name": "stdout",
     "output_type": "stream",
     "text": [
      "Este juego trata de que usted elija una cantidad de cartas para sacar aleatoriamente en un rango entre 1 y 20.\n",
      "Usted debe elegir un número de veces en que se va a quitar elementos de la pila, los cuales, sumados entre sí, no deben superar el valor de 50.\n",
      "Usted pierde si la suma supera ese valor. Si no lo supera, gana, pero su calificación será 10 menos el número elementos que falten quitar para todavía no superar 50.\n",
      "Cartas sacadas:  [7]\n",
      "Cartas restantes hasta los 50:  [9, 6, 16, 8, 4, 19]\n"
     ]
    },
    {
     "data": {
      "text/plain": [
       "('Lo sentimos, su nota es: ', 5, ' y ha fallado. :(')"
      ]
     },
     "execution_count": 35,
     "metadata": {},
     "output_type": "execute_result"
    }
   ],
   "source": [
    "print('Este juego trata de que usted elija una cantidad de cartas para sacar aleatoriamente en un rango entre 1 y 20.')\n",
    "print('Usted debe elegir un número de veces en que se va a quitar elementos de la pila, los cuales, sumados entre sí, no deben superar el valor de 50.')\n",
    "print('Usted pierde si la suma supera ese valor. Si no lo supera, gana, pero su calificación será 10 menos el número elementos que falten quitar para todavía no superar 50.')\n",
    "num_ele = input('Elija un numero para el juego: ')\n",
    "play = Juego(num_ele)\n",
    "play"
   ]
  },
  {
   "cell_type": "code",
   "execution_count": 36,
   "metadata": {},
   "outputs": [],
   "source": [
    "#Que lo disfrute :) <3"
   ]
  }
 ],
 "metadata": {
  "kernelspec": {
   "display_name": "Python 3",
   "language": "python",
   "name": "python3"
  },
  "language_info": {
   "codemirror_mode": {
    "name": "ipython",
    "version": 3
   },
   "file_extension": ".py",
   "mimetype": "text/x-python",
   "name": "python",
   "nbconvert_exporter": "python",
   "pygments_lexer": "ipython3",
   "version": "3.10.4"
  },
  "orig_nbformat": 4,
  "vscode": {
   "interpreter": {
    "hash": "d7546de2d5b66e6bb4051f93f462cf1f21acc5c70ac66712f7c9fa60f386dd80"
   }
  }
 },
 "nbformat": 4,
 "nbformat_minor": 2
}
